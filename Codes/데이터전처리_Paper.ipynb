{
  "cells": [
    {
      "cell_type": "code",
      "execution_count": null,
      "metadata": {
        "colab": {
          "base_uri": "https://localhost:8080/"
        },
        "id": "lIYdn1woOS1n",
        "outputId": "22a66bd3-9c51-4a0e-ff70-339b7bb65e5d"
      },
      "outputs": [
        {
          "output_type": "stream",
          "name": "stdout",
          "text": [
            "Requirement already satisfied: easyocr in /usr/local/lib/python3.7/dist-packages (1.4.1)\n",
            "Requirement already satisfied: scipy in /usr/local/lib/python3.7/dist-packages (from easyocr) (1.4.1)\n",
            "Requirement already satisfied: scikit-image in /usr/local/lib/python3.7/dist-packages (from easyocr) (0.18.3)\n",
            "Requirement already satisfied: torch in /usr/local/lib/python3.7/dist-packages (from easyocr) (1.10.0+cu111)\n",
            "Requirement already satisfied: numpy in /usr/local/lib/python3.7/dist-packages (from easyocr) (1.19.5)\n",
            "Requirement already satisfied: python-bidi in /usr/local/lib/python3.7/dist-packages (from easyocr) (0.4.2)\n",
            "Requirement already satisfied: PyYAML in /usr/local/lib/python3.7/dist-packages (from easyocr) (3.13)\n",
            "Requirement already satisfied: Pillow<8.3.0 in /usr/local/lib/python3.7/dist-packages (from easyocr) (7.1.2)\n",
            "Requirement already satisfied: torchvision>=0.5 in /usr/local/lib/python3.7/dist-packages (from easyocr) (0.11.1+cu111)\n",
            "Requirement already satisfied: opencv-python-headless in /usr/local/lib/python3.7/dist-packages (from easyocr) (4.5.4.60)\n",
            "Requirement already satisfied: typing-extensions in /usr/local/lib/python3.7/dist-packages (from torch->easyocr) (3.10.0.2)\n",
            "Requirement already satisfied: six in /usr/local/lib/python3.7/dist-packages (from python-bidi->easyocr) (1.15.0)\n",
            "Requirement already satisfied: tifffile>=2019.7.26 in /usr/local/lib/python3.7/dist-packages (from scikit-image->easyocr) (2021.11.2)\n",
            "Requirement already satisfied: imageio>=2.3.0 in /usr/local/lib/python3.7/dist-packages (from scikit-image->easyocr) (2.4.1)\n",
            "Requirement already satisfied: networkx>=2.0 in /usr/local/lib/python3.7/dist-packages (from scikit-image->easyocr) (2.6.3)\n",
            "Requirement already satisfied: matplotlib!=3.0.0,>=2.0.0 in /usr/local/lib/python3.7/dist-packages (from scikit-image->easyocr) (3.2.2)\n",
            "Requirement already satisfied: PyWavelets>=1.1.1 in /usr/local/lib/python3.7/dist-packages (from scikit-image->easyocr) (1.2.0)\n",
            "Requirement already satisfied: cycler>=0.10 in /usr/local/lib/python3.7/dist-packages (from matplotlib!=3.0.0,>=2.0.0->scikit-image->easyocr) (0.11.0)\n",
            "Requirement already satisfied: kiwisolver>=1.0.1 in /usr/local/lib/python3.7/dist-packages (from matplotlib!=3.0.0,>=2.0.0->scikit-image->easyocr) (1.3.2)\n",
            "Requirement already satisfied: pyparsing!=2.0.4,!=2.1.2,!=2.1.6,>=2.0.1 in /usr/local/lib/python3.7/dist-packages (from matplotlib!=3.0.0,>=2.0.0->scikit-image->easyocr) (3.0.6)\n",
            "Requirement already satisfied: python-dateutil>=2.1 in /usr/local/lib/python3.7/dist-packages (from matplotlib!=3.0.0,>=2.0.0->scikit-image->easyocr) (2.8.2)\n"
          ]
        }
      ],
      "source": [
        "!pip install easyocr"
      ]
    },
    {
      "cell_type": "code",
      "execution_count": null,
      "metadata": {
        "id": "nUUz9kmwg0SN",
        "colab": {
          "base_uri": "https://localhost:8080/",
          "height": 35
        },
        "outputId": "ddf0dad4-28d3-498c-8c0f-06547364060f"
      },
      "outputs": [
        {
          "output_type": "execute_result",
          "data": {
            "application/vnd.google.colaboratory.intrinsic+json": {
              "type": "string"
            },
            "text/plain": [
              "'\\n!apt-get update -qq\\n!apt-get install fonts-nanum* -qq\\n'"
            ]
          },
          "metadata": {},
          "execution_count": 3
        }
      ],
      "source": [
        "'''\n",
        "!apt-get update -qq\n",
        "!apt-get install fonts-nanum* -qq\n",
        "'''"
      ]
    },
    {
      "cell_type": "code",
      "execution_count": null,
      "metadata": {
        "colab": {
          "base_uri": "https://localhost:8080/"
        },
        "id": "lno8851CYGqE",
        "outputId": "368a2dbc-6202-4547-f8e9-5896b465a24e"
      },
      "outputs": [
        {
          "output_type": "stream",
          "name": "stdout",
          "text": [
            "Mounted at /gdrive\n"
          ]
        }
      ],
      "source": [
        "from google.colab import drive\n",
        "drive.mount('/gdrive', force_remount=True)\n",
        "PATH_PAPER = '../gdrive/MyDrive/공모전용/HW-OCR/4.Validaiton/paper/R.Free/'\n",
        "PATH_TABLET = '../gdrive/MyDrive/공모전용/HW-OCR/4.Validaiton/tablet/R.Free/'"
      ]
    },
    {
      "cell_type": "code",
      "execution_count": null,
      "metadata": {
        "id": "NOcUfXmmYRjk"
      },
      "outputs": [],
      "source": [
        "import easyocr\n",
        "import os\n",
        "import PIL\n",
        "import numpy as np\n",
        "import cv2\n",
        "import random\n",
        "import json\n",
        "import matplotlib.pyplot as plt\n",
        "from tqdm import tqdm\n",
        "from PIL import ImageFont, ImageDraw, Image\n",
        "import matplotlib.font_manager as fm  # 폰트 관련 용도"
      ]
    },
    {
      "cell_type": "code",
      "execution_count": null,
      "metadata": {
        "id": "yIBR2CMHgs39",
        "colab": {
          "base_uri": "https://localhost:8080/",
          "height": 35
        },
        "outputId": "407a7b14-a572-4925-e8d4-9f0d6d74c541"
      },
      "outputs": [
        {
          "output_type": "execute_result",
          "data": {
            "application/vnd.google.colaboratory.intrinsic+json": {
              "type": "string"
            },
            "text/plain": [
              "'\\nsys_font=fm.findSystemFonts()\\nprint(f\"sys_font number: {len(sys_font)}\")\\nprint(sys_font)\\n\\nnanum_font = [f for f in sys_font if \\'Nanum\\' in f]\\nprint(f\"nanum_font number: {len(nanum_font)}\")\\n'"
            ]
          },
          "metadata": {},
          "execution_count": 6
        }
      ],
      "source": [
        "'''\n",
        "sys_font=fm.findSystemFonts()\n",
        "print(f\"sys_font number: {len(sys_font)}\")\n",
        "print(sys_font)\n",
        "\n",
        "nanum_font = [f for f in sys_font if 'Nanum' in f]\n",
        "print(f\"nanum_font number: {len(nanum_font)}\")\n",
        "'''"
      ]
    },
    {
      "cell_type": "code",
      "execution_count": null,
      "metadata": {
        "id": "mKDzRoYghQJA",
        "colab": {
          "base_uri": "https://localhost:8080/",
          "height": 35
        },
        "outputId": "62d3b6a9-38a0-4c9b-dad6-e7c601d2f464"
      },
      "outputs": [
        {
          "output_type": "execute_result",
          "data": {
            "application/vnd.google.colaboratory.intrinsic+json": {
              "type": "string"
            },
            "text/plain": [
              "\"\\npath = '/usr/share/fonts/truetype/nanum/NanumGothicEco.ttf'  # 설치된 나눔글꼴중 원하는 녀석의 전체 경로를 가져오자\\n\\nfont_name = fm.FontProperties(fname=path, size=10).get_name()\\nprint(font_name)\\nplt.rc('font', family=font_name)\\nfm._rebuild()\\n\""
            ]
          },
          "metadata": {},
          "execution_count": 7
        }
      ],
      "source": [
        "'''\n",
        "path = '/usr/share/fonts/truetype/nanum/NanumGothicEco.ttf'  # 설치된 나눔글꼴중 원하는 녀석의 전체 경로를 가져오자\n",
        "\n",
        "font_name = fm.FontProperties(fname=path, size=10).get_name()\n",
        "print(font_name)\n",
        "plt.rc('font', family=font_name)\n",
        "fm._rebuild()\n",
        "'''"
      ]
    },
    {
      "cell_type": "code",
      "execution_count": null,
      "metadata": {
        "id": "YfD96ZuyqYwp"
      },
      "outputs": [],
      "source": [
        "def image_loca(reader):\n",
        "  loca = []\n",
        "\n",
        "  for red in reader:\n",
        "    \n",
        "    prob = red[2]\n",
        "    if prob < 0.5:\n",
        "      continue\n",
        "    \n",
        "    temp = red[0]\n",
        "    temp.append(red[1])\n",
        "    loca.append(temp)\n",
        "\n",
        "  return loca"
      ]
    },
    {
      "cell_type": "code",
      "execution_count": null,
      "metadata": {
        "id": "KgALaY2OyrYs"
      },
      "outputs": [],
      "source": [
        "## path = 파일명\n",
        "def json_data(path):\n",
        "    f = open(path,encoding = \"UTF-8\")\n",
        "    data = json.loads(f.read())\n",
        "\n",
        "    whole_loca = []\n",
        "    for i in range(len(data['bbox'])):\n",
        "        loca = []\n",
        "        for a, b in zip(data['bbox'][i]['x'],data['bbox'][i]['y']):\n",
        "            loca.append([a,b])\n",
        "        loca.append(data['bbox'][i]['data'])\n",
        "        whole_loca.append(loca)\n",
        "    \n",
        "    return whole_loca"
      ]
    },
    {
      "cell_type": "code",
      "execution_count": null,
      "metadata": {
        "id": "3sf4vCb-znYb"
      },
      "outputs": [],
      "source": [
        "## 공통인자 추출\n",
        "## 오로지 tablet 폴더 손글씨 용입니다. 공문서는 따로 구성해야 함\n",
        "def comparing_img_json(img, js):\n",
        "  img_list = []\n",
        "  \n",
        "  for i in img:\n",
        "    img_list.append(i[-1])\n",
        "  \n",
        "  return_img_list = []\n",
        "\n",
        "  for i in js:\n",
        "    if i[-1] in img_list:\n",
        "      return_img_list.append(i)\n",
        "\n",
        "  return return_img_list"
      ]
    },
    {
      "cell_type": "code",
      "execution_count": null,
      "metadata": {
        "id": "O6URMqmW6f-3"
      },
      "outputs": [],
      "source": [
        "## 원근변환용 좌표 추출 함수\n",
        "\n",
        "def cal_center(arr):\n",
        "    mins = np.min(arr, axis=0)\n",
        "    maxs = np.max(arr, axis=0)\n",
        "    \n",
        "    X_low = mins[0]\n",
        "    X_max = maxs[0]\n",
        "    Y_low = mins[1]\n",
        "    Y_max = maxs[1]\n",
        "    \n",
        "    L_H = [X_low, Y_low]\n",
        "    L_L = [X_low, Y_max]\n",
        "    R_H = [X_max, Y_low]\n",
        "    R_L = [X_max, Y_max]\n",
        "    \n",
        "    result = np.float32([L_H, L_L, R_H, R_L])\n",
        "    \n",
        "    return result"
      ]
    },
    {
      "cell_type": "code",
      "execution_count": null,
      "metadata": {
        "id": "D_2j8ejP4_h4"
      },
      "outputs": [],
      "source": [
        "## 원근 변환 함수\n",
        "def warp_Perspective(img, js):\n",
        "    rows, cols = img.shape[:2]\n",
        "    \n",
        "    #---① 원근 변환 전 후 4개 좌표\n",
        "    np_js = np.array(js).reshape(4,2)\n",
        "    pts1 = cal_center(np_js)\n",
        "\n",
        "    rows = int(pts1[1][1] - pts1[0][1])\n",
        "    cols = int(pts1[2][0] - pts1[1][0])\n",
        "    \n",
        "    pts2 = np.float32([[0,0], [0,rows-1], [cols-1, 0], [cols-1,rows-1]])\n",
        "\n",
        "    #---③ 원근 변환 행렬 계산\n",
        "    mtrx = cv2.getPerspectiveTransform(pts1, pts2)\n",
        "    #---④ 원근 변환 적용\n",
        "    dst = cv2.warpPerspective(img, mtrx, (cols, rows))\n",
        "  \n",
        "\n",
        "    return dst"
      ]
    },
    {
      "cell_type": "code",
      "execution_count": null,
      "metadata": {
        "id": "_azOyEBHD0pM"
      },
      "outputs": [],
      "source": [
        "def img_slicing(path, img, word):\n",
        "  pil_img = Image.fromarray(img)\n",
        "  word_size = len(word)\n",
        "  img_size = pil_img.size\n",
        "\n",
        "  y_slice = img_size[1]\n",
        "  x_slice = int(img_size[0]/word_size)\n",
        "\n",
        "\n",
        "  for i in range(word_size):\n",
        "    croppedImage = pil_img.crop((i*x_slice, 0, (i+1)*x_slice, y_slice))\n",
        "    save_image(path, word[i], croppedImage)"
      ]
    },
    {
      "cell_type": "code",
      "execution_count": null,
      "metadata": {
        "id": "0qmlJ8KFFoam"
      },
      "outputs": [],
      "source": [
        "def save_image(path, one_word, cropimage):\n",
        "  directory = path+'/전처리/'+one_word\n",
        "  global FILENUMBER\n",
        "  try:\n",
        "    if not os.path.exists(directory):\n",
        "      os.makedirs(directory)\n",
        "  except:\n",
        "    pass\n",
        "\n",
        "  filename = directory+'/{}_{}.png'.format(FILENUMBER, one_word)\n",
        "  if os.path.isfile(filename):\n",
        "    FILENUMBER+=1\n",
        "    return\n",
        "  \n",
        "  cropimage.save(filename)\n",
        "  FILENUMBER+=1"
      ]
    },
    {
      "cell_type": "code",
      "execution_count": null,
      "metadata": {
        "id": "baRY6o5qzFzF"
      },
      "outputs": [],
      "source": [
        "reader = easyocr.Reader(['ko', 'en'])"
      ]
    },
    {
      "cell_type": "code",
      "execution_count": null,
      "metadata": {
        "id": "I4K5UAHM3wr-"
      },
      "outputs": [],
      "source": [
        "filelist = os.listdir(PATH_PAPER)"
      ]
    },
    {
      "cell_type": "code",
      "execution_count": null,
      "metadata": {
        "id": "1I03qaBWuOa-"
      },
      "outputs": [],
      "source": [
        "filelist.sort()"
      ]
    },
    {
      "cell_type": "code",
      "source": [
        "filelist[:5]"
      ],
      "metadata": {
        "colab": {
          "base_uri": "https://localhost:8080/"
        },
        "id": "zV1jgAWZ8Bzu",
        "outputId": "70556ce0-eb37-4463-a249-6336eabde6f1"
      },
      "execution_count": null,
      "outputs": [
        {
          "output_type": "execute_result",
          "data": {
            "text/plain": [
              "['IMG_OCR_53_4PR_13001.json',\n",
              " 'IMG_OCR_53_4PR_13001.png',\n",
              " 'IMG_OCR_53_4PR_13002.json',\n",
              " 'IMG_OCR_53_4PR_13002.png',\n",
              " 'IMG_OCR_53_4PR_13003.json']"
            ]
          },
          "metadata": {},
          "execution_count": 18
        }
      ]
    },
    {
      "cell_type": "code",
      "execution_count": null,
      "metadata": {
        "id": "1UhDeaYL5r-w"
      },
      "outputs": [],
      "source": [
        "## 파일명 분할 추출\n",
        "pnglist = []\n",
        "jsonlist = []\n",
        "global FILENUMBER\n",
        "FILENUMBER = 264428\n",
        "for i in range(len(filelist)):\n",
        "\n",
        "  if i == len(filelist)-2:\n",
        "    break\n",
        "\n",
        "  split1 = filelist[i].split('.')[0]\n",
        "  split2 = filelist[i+1].split('.')[0]\n",
        "\n",
        "  if split1 == split2:\n",
        "    pnglist.append(split1+'.png')\n",
        "    jsonlist.append(split1+'.json')\n",
        "  else:\n",
        "    continue"
      ]
    },
    {
      "cell_type": "code",
      "source": [
        "len(jsonlist)"
      ],
      "metadata": {
        "colab": {
          "base_uri": "https://localhost:8080/"
        },
        "id": "lL7NT0UeGB1t",
        "outputId": "3e3750a9-afb6-4c75-bf85-590c04129ee7"
      },
      "execution_count": null,
      "outputs": [
        {
          "output_type": "execute_result",
          "data": {
            "text/plain": [
              "3012"
            ]
          },
          "metadata": {},
          "execution_count": 20
        }
      ]
    },
    {
      "cell_type": "code",
      "execution_count": null,
      "metadata": {
        "id": "bYRvKhOy9FvO",
        "colab": {
          "base_uri": "https://localhost:8080/"
        },
        "outputId": "a0cb8286-6b0d-4d6a-d675-e7c5aa209473"
      },
      "outputs": [
        {
          "output_type": "stream",
          "name": "stderr",
          "text": [
            "100it [06:13,  1.96s/it]"
          ]
        },
        {
          "output_type": "stream",
          "name": "stdout",
          "text": [
            "270196\n"
          ]
        },
        {
          "output_type": "stream",
          "name": "stderr",
          "text": [
            "200it [09:27,  1.93s/it]"
          ]
        },
        {
          "output_type": "stream",
          "name": "stdout",
          "text": [
            "275965\n"
          ]
        },
        {
          "output_type": "stream",
          "name": "stderr",
          "text": [
            "300it [12:32,  1.93s/it]"
          ]
        },
        {
          "output_type": "stream",
          "name": "stdout",
          "text": [
            "279993\n"
          ]
        },
        {
          "output_type": "stream",
          "name": "stderr",
          "text": [
            "379it [14:58,  1.85s/it]"
          ]
        },
        {
          "output_type": "stream",
          "name": "stdout",
          "text": [
            "[[847, 2295], [847, 2418], [1216, 2295], [1216, 2418], '(/030)/'] 여기서 불량입니다.\n"
          ]
        },
        {
          "output_type": "stream",
          "name": "stderr",
          "text": [
            "400it [15:43,  2.11s/it]"
          ]
        },
        {
          "output_type": "stream",
          "name": "stdout",
          "text": [
            "283709\n"
          ]
        },
        {
          "output_type": "stream",
          "name": "stderr",
          "text": [
            "500it [19:14,  2.16s/it]"
          ]
        },
        {
          "output_type": "stream",
          "name": "stdout",
          "text": [
            "287650\n"
          ]
        },
        {
          "output_type": "stream",
          "name": "stderr",
          "text": [
            "600it [22:39,  2.05s/it]"
          ]
        },
        {
          "output_type": "stream",
          "name": "stdout",
          "text": [
            "290449\n"
          ]
        },
        {
          "output_type": "stream",
          "name": "stderr",
          "text": [
            "700it [26:14,  2.13s/it]"
          ]
        },
        {
          "output_type": "stream",
          "name": "stdout",
          "text": [
            "294174\n"
          ]
        },
        {
          "output_type": "stream",
          "name": "stderr",
          "text": [
            "800it [29:57,  2.29s/it]"
          ]
        },
        {
          "output_type": "stream",
          "name": "stdout",
          "text": [
            "299689\n"
          ]
        },
        {
          "output_type": "stream",
          "name": "stderr",
          "text": [
            "900it [34:01,  2.66s/it]"
          ]
        },
        {
          "output_type": "stream",
          "name": "stdout",
          "text": [
            "306993\n"
          ]
        },
        {
          "output_type": "stream",
          "name": "stderr",
          "text": [
            "1000it [38:04,  2.53s/it]"
          ]
        },
        {
          "output_type": "stream",
          "name": "stdout",
          "text": [
            "314444\n"
          ]
        },
        {
          "output_type": "stream",
          "name": "stderr",
          "text": [
            "1100it [42:10,  2.40s/it]"
          ]
        },
        {
          "output_type": "stream",
          "name": "stdout",
          "text": [
            "322557\n"
          ]
        },
        {
          "output_type": "stream",
          "name": "stderr",
          "text": [
            "1200it [45:46,  2.10s/it]"
          ]
        },
        {
          "output_type": "stream",
          "name": "stdout",
          "text": [
            "326722\n"
          ]
        },
        {
          "output_type": "stream",
          "name": "stderr",
          "text": [
            "1300it [48:58,  1.96s/it]"
          ]
        },
        {
          "output_type": "stream",
          "name": "stdout",
          "text": [
            "327761\n"
          ]
        },
        {
          "output_type": "stream",
          "name": "stderr",
          "text": [
            "1400it [52:42,  2.22s/it]"
          ]
        },
        {
          "output_type": "stream",
          "name": "stdout",
          "text": [
            "333167\n"
          ]
        },
        {
          "output_type": "stream",
          "name": "stderr",
          "text": [
            "1500it [56:23,  2.11s/it]"
          ]
        },
        {
          "output_type": "stream",
          "name": "stdout",
          "text": [
            "338170\n"
          ]
        },
        {
          "output_type": "stream",
          "name": "stderr",
          "text": [
            "1600it [59:32,  1.61s/it]"
          ]
        },
        {
          "output_type": "stream",
          "name": "stdout",
          "text": [
            "339964\n"
          ]
        },
        {
          "output_type": "stream",
          "name": "stderr",
          "text": [
            "1700it [1:01:54,  1.02s/it]"
          ]
        },
        {
          "output_type": "stream",
          "name": "stdout",
          "text": [
            "341510\n"
          ]
        },
        {
          "output_type": "stream",
          "name": "stderr",
          "text": [
            "1800it [1:03:44,  1.45s/it]"
          ]
        },
        {
          "output_type": "stream",
          "name": "stdout",
          "text": [
            "342668\n"
          ]
        },
        {
          "output_type": "stream",
          "name": "stderr",
          "text": [
            "1900it [1:05:49,  1.03s/it]"
          ]
        },
        {
          "output_type": "stream",
          "name": "stdout",
          "text": [
            "344233\n"
          ]
        },
        {
          "output_type": "stream",
          "name": "stderr",
          "text": [
            "2000it [1:07:55,  1.19s/it]"
          ]
        },
        {
          "output_type": "stream",
          "name": "stdout",
          "text": [
            "346086\n"
          ]
        },
        {
          "output_type": "stream",
          "name": "stderr",
          "text": [
            "2100it [1:09:47,  1.00s/it]"
          ]
        },
        {
          "output_type": "stream",
          "name": "stdout",
          "text": [
            "347438\n"
          ]
        },
        {
          "output_type": "stream",
          "name": "stderr",
          "text": [
            "2200it [1:11:25,  1.05it/s]"
          ]
        },
        {
          "output_type": "stream",
          "name": "stdout",
          "text": [
            "348648\n"
          ]
        },
        {
          "output_type": "stream",
          "name": "stderr",
          "text": [
            "2300it [1:13:11,  1.07it/s]"
          ]
        },
        {
          "output_type": "stream",
          "name": "stdout",
          "text": [
            "350973\n"
          ]
        },
        {
          "output_type": "stream",
          "name": "stderr",
          "text": [
            "2400it [1:14:43,  1.06it/s]"
          ]
        },
        {
          "output_type": "stream",
          "name": "stdout",
          "text": [
            "351721\n"
          ]
        },
        {
          "output_type": "stream",
          "name": "stderr",
          "text": [
            "2500it [1:16:36,  1.21s/it]"
          ]
        },
        {
          "output_type": "stream",
          "name": "stdout",
          "text": [
            "352992\n"
          ]
        },
        {
          "output_type": "stream",
          "name": "stderr",
          "text": [
            "2600it [1:18:26,  1.30it/s]"
          ]
        },
        {
          "output_type": "stream",
          "name": "stdout",
          "text": [
            "354863\n"
          ]
        },
        {
          "output_type": "stream",
          "name": "stderr",
          "text": [
            "2700it [1:20:12,  1.11s/it]"
          ]
        },
        {
          "output_type": "stream",
          "name": "stdout",
          "text": [
            "356714\n"
          ]
        },
        {
          "output_type": "stream",
          "name": "stderr",
          "text": [
            "2800it [1:21:52,  1.37s/it]"
          ]
        },
        {
          "output_type": "stream",
          "name": "stdout",
          "text": [
            "357915\n"
          ]
        },
        {
          "output_type": "stream",
          "name": "stderr",
          "text": [
            "2900it [1:23:37,  1.02it/s]"
          ]
        },
        {
          "output_type": "stream",
          "name": "stdout",
          "text": [
            "359050\n"
          ]
        },
        {
          "output_type": "stream",
          "name": "stderr",
          "text": [
            "3000it [1:25:22,  1.10s/it]"
          ]
        },
        {
          "output_type": "stream",
          "name": "stdout",
          "text": [
            "360284\n"
          ]
        },
        {
          "output_type": "stream",
          "name": "stderr",
          "text": [
            "3012it [1:25:34,  1.70s/it]\n"
          ]
        }
      ],
      "source": [
        "res = []\n",
        "count = 0\n",
        "for i, j in tqdm(zip(pnglist, jsonlist)):\n",
        "  result = reader.readtext(PATH_PAPER+i)\n",
        "  img = cv2.imread(PATH_PAPER+i)\n",
        "\n",
        "  img_data = image_loca(result)\n",
        "  js_data = json_data(PATH_PAPER+j)\n",
        "\n",
        "  target = comparing_img_json(img_data, js_data)\n",
        "\n",
        "  for t in target:\n",
        "    order = t[:-1]\n",
        "    pre_img = warp_Perspective(img, order)\n",
        "    try:\n",
        "      img_slicing(PATH_TABLET, pre_img, t[-1])\n",
        "    except ValueError:\n",
        "      print(t, '여기서 불량입니다.')\n",
        "      pass\n",
        "  res.append(FILENUMBER)\n",
        "  if len(res) % 100 == 0:\n",
        "    print(FILENUMBER)"
      ]
    }
  ],
  "metadata": {
    "accelerator": "GPU",
    "colab": {
      "collapsed_sections": [],
      "machine_shape": "hm",
      "name": "데이터전처리_Paper.ipynb",
      "provenance": []
    },
    "kernelspec": {
      "display_name": "Python 3",
      "language": "python",
      "name": "python3"
    },
    "language_info": {
      "codemirror_mode": {
        "name": "ipython",
        "version": 3
      },
      "file_extension": ".py",
      "mimetype": "text/x-python",
      "name": "python",
      "nbconvert_exporter": "python",
      "pygments_lexer": "ipython3",
      "version": "3.8.8"
    }
  },
  "nbformat": 4,
  "nbformat_minor": 0
}