{
  "nbformat": 4,
  "nbformat_minor": 0,
  "metadata": {
    "colab": {
      "name": "데이터전처리_tablet.ipynb",
      "provenance": [],
      "collapsed_sections": [],
      "machine_shape": "hm"
    },
    "kernelspec": {
      "display_name": "Python 3",
      "name": "python3"
    },
    "accelerator": "GPU"
  },
  "cells": [
    {
      "cell_type": "code",
      "metadata": {
        "id": "lIYdn1woOS1n",
        "colab": {
          "base_uri": "https://localhost:8080/"
        },
        "outputId": "81be9c83-c372-47fd-fe4b-af911b0495b0"
      },
      "source": [
        "!pip install easyocr"
      ],
      "execution_count": null,
      "outputs": [
        {
          "output_type": "stream",
          "name": "stdout",
          "text": [
            "Requirement already satisfied: easyocr in /usr/local/lib/python3.7/dist-packages (1.4.1)\n",
            "Requirement already satisfied: torch in /usr/local/lib/python3.7/dist-packages (from easyocr) (1.10.0+cu111)\n",
            "Requirement already satisfied: scikit-image in /usr/local/lib/python3.7/dist-packages (from easyocr) (0.18.3)\n",
            "Requirement already satisfied: numpy in /usr/local/lib/python3.7/dist-packages (from easyocr) (1.19.5)\n",
            "Requirement already satisfied: opencv-python-headless in /usr/local/lib/python3.7/dist-packages (from easyocr) (4.5.4.60)\n",
            "Requirement already satisfied: scipy in /usr/local/lib/python3.7/dist-packages (from easyocr) (1.4.1)\n",
            "Requirement already satisfied: PyYAML in /usr/local/lib/python3.7/dist-packages (from easyocr) (3.13)\n",
            "Requirement already satisfied: Pillow<8.3.0 in /usr/local/lib/python3.7/dist-packages (from easyocr) (7.1.2)\n",
            "Requirement already satisfied: python-bidi in /usr/local/lib/python3.7/dist-packages (from easyocr) (0.4.2)\n",
            "Requirement already satisfied: torchvision>=0.5 in /usr/local/lib/python3.7/dist-packages (from easyocr) (0.11.1+cu111)\n",
            "Requirement already satisfied: typing-extensions in /usr/local/lib/python3.7/dist-packages (from torch->easyocr) (3.10.0.2)\n",
            "Requirement already satisfied: six in /usr/local/lib/python3.7/dist-packages (from python-bidi->easyocr) (1.15.0)\n",
            "Requirement already satisfied: tifffile>=2019.7.26 in /usr/local/lib/python3.7/dist-packages (from scikit-image->easyocr) (2021.11.2)\n",
            "Requirement already satisfied: PyWavelets>=1.1.1 in /usr/local/lib/python3.7/dist-packages (from scikit-image->easyocr) (1.2.0)\n",
            "Requirement already satisfied: networkx>=2.0 in /usr/local/lib/python3.7/dist-packages (from scikit-image->easyocr) (2.6.3)\n",
            "Requirement already satisfied: matplotlib!=3.0.0,>=2.0.0 in /usr/local/lib/python3.7/dist-packages (from scikit-image->easyocr) (3.2.2)\n",
            "Requirement already satisfied: imageio>=2.3.0 in /usr/local/lib/python3.7/dist-packages (from scikit-image->easyocr) (2.4.1)\n",
            "Requirement already satisfied: cycler>=0.10 in /usr/local/lib/python3.7/dist-packages (from matplotlib!=3.0.0,>=2.0.0->scikit-image->easyocr) (0.11.0)\n",
            "Requirement already satisfied: kiwisolver>=1.0.1 in /usr/local/lib/python3.7/dist-packages (from matplotlib!=3.0.0,>=2.0.0->scikit-image->easyocr) (1.3.2)\n",
            "Requirement already satisfied: python-dateutil>=2.1 in /usr/local/lib/python3.7/dist-packages (from matplotlib!=3.0.0,>=2.0.0->scikit-image->easyocr) (2.8.2)\n",
            "Requirement already satisfied: pyparsing!=2.0.4,!=2.1.2,!=2.1.6,>=2.0.1 in /usr/local/lib/python3.7/dist-packages (from matplotlib!=3.0.0,>=2.0.0->scikit-image->easyocr) (3.0.6)\n"
          ]
        }
      ]
    },
    {
      "cell_type": "code",
      "source": [
        "!apt-get update -qq\n",
        "!apt-get install fonts-nanum* -qq"
      ],
      "metadata": {
        "id": "nUUz9kmwg0SN"
      },
      "execution_count": null,
      "outputs": []
    },
    {
      "cell_type": "code",
      "source": [
        "from google.colab import drive\n",
        "drive.mount('/gdrive', force_remount=True)\n",
        "PATH_PAPER = '../gdrive/MyDrive/공모전용/HW-OCR/4.Validaiton/paper/R.Free/'\n",
        "PATH_TABLET = '../gdrive/MyDrive/공모전용/HW-OCR/4.Validaiton/tablet/R.Free/'\n",
        "pre_PATH_TABLET = '../gdrive/MyDrive/공모전용/HW-OCR/4.Validaiton/tablet/'"
      ],
      "metadata": {
        "colab": {
          "base_uri": "https://localhost:8080/"
        },
        "id": "lno8851CYGqE",
        "outputId": "254ecc32-58ab-477f-91cb-003c214fdeb3"
      },
      "execution_count": null,
      "outputs": [
        {
          "output_type": "stream",
          "name": "stdout",
          "text": [
            "Mounted at /gdrive\n"
          ]
        }
      ]
    },
    {
      "cell_type": "code",
      "source": [
        "import easyocr\n",
        "import os\n",
        "import PIL\n",
        "import numpy as np\n",
        "import cv2\n",
        "import random\n",
        "import json\n",
        "import matplotlib.pyplot as plt\n",
        "from tqdm import tqdm\n",
        "from PIL import ImageFont, ImageDraw, Image\n",
        "import matplotlib.font_manager as fm  # 폰트 관련 용도"
      ],
      "metadata": {
        "id": "NOcUfXmmYRjk"
      },
      "execution_count": null,
      "outputs": []
    },
    {
      "cell_type": "code",
      "source": [
        "'''\n",
        "sys_font=fm.findSystemFonts()\n",
        "print(f\"sys_font number: {len(sys_font)}\")\n",
        "print(sys_font)\n",
        "\n",
        "nanum_font = [f for f in sys_font if 'Nanum' in f]\n",
        "print(f\"nanum_font number: {len(nanum_font)}\")\n",
        "'''"
      ],
      "metadata": {
        "colab": {
          "base_uri": "https://localhost:8080/",
          "height": 54
        },
        "id": "yIBR2CMHgs39",
        "outputId": "bbfff71a-0ac3-4239-91a8-f5bd240f6661"
      },
      "execution_count": null,
      "outputs": [
        {
          "output_type": "execute_result",
          "data": {
            "application/vnd.google.colaboratory.intrinsic+json": {
              "type": "string"
            },
            "text/plain": [
              "'\\nsys_font=fm.findSystemFonts()\\nprint(f\"sys_font number: {len(sys_font)}\")\\nprint(sys_font)\\n\\nnanum_font = [f for f in sys_font if \\'Nanum\\' in f]\\nprint(f\"nanum_font number: {len(nanum_font)}\")\\n'"
            ]
          },
          "metadata": {},
          "execution_count": 5
        }
      ]
    },
    {
      "cell_type": "code",
      "source": [
        "'''\n",
        "path = '/usr/share/fonts/truetype/nanum/NanumGothicEco.ttf'  # 설치된 나눔글꼴중 원하는 녀석의 전체 경로를 가져오자\n",
        "font_name = fm.FontProperties(fname=path, size=10).get_name()\n",
        "print(font_name)\n",
        "plt.rc('font', family=font_name)\n",
        "fm._rebuild()\n",
        "'''"
      ],
      "metadata": {
        "colab": {
          "base_uri": "https://localhost:8080/",
          "height": 72
        },
        "id": "mKDzRoYghQJA",
        "outputId": "3418961e-78ff-400d-8ff2-20b68a529c43"
      },
      "execution_count": null,
      "outputs": [
        {
          "output_type": "execute_result",
          "data": {
            "application/vnd.google.colaboratory.intrinsic+json": {
              "type": "string"
            },
            "text/plain": [
              "\"\\npath = '/usr/share/fonts/truetype/nanum/NanumGothicEco.ttf'  # 설치된 나눔글꼴중 원하는 녀석의 전체 경로를 가져오자\\nfont_name = fm.FontProperties(fname=path, size=10).get_name()\\nprint(font_name)\\nplt.rc('font', family=font_name)\\nfm._rebuild()\\n\""
            ]
          },
          "metadata": {},
          "execution_count": 6
        }
      ]
    },
    {
      "cell_type": "code",
      "source": [
        "def image_loca(reader):\n",
        "  loca = []\n",
        "\n",
        "  for red in reader:\n",
        "    \n",
        "    prob = red[2]\n",
        "    if prob < 0.5:\n",
        "      continue\n",
        "    \n",
        "    temp = red[0]\n",
        "    temp.append(red[1])\n",
        "    loca.append(temp)\n",
        "\n",
        "  return loca"
      ],
      "metadata": {
        "id": "YfD96ZuyqYwp"
      },
      "execution_count": null,
      "outputs": []
    },
    {
      "cell_type": "code",
      "source": [
        "## path = 파일명\n",
        "def json_data(path):\n",
        "    f = open(path,encoding = \"UTF-8\")\n",
        "    data = json.loads(f.read())\n",
        "\n",
        "    whole_loca = []\n",
        "    for i in range(len(data['bbox'])):\n",
        "        loca = []\n",
        "        for a, b in zip(data['bbox'][i]['x'],data['bbox'][i]['y']):\n",
        "            loca.append([a,b])\n",
        "        loca.append(data['bbox'][i]['data'])\n",
        "        whole_loca.append(loca)\n",
        "    \n",
        "    return whole_loca"
      ],
      "metadata": {
        "id": "KgALaY2OyrYs"
      },
      "execution_count": null,
      "outputs": []
    },
    {
      "cell_type": "code",
      "source": [
        "## 공통인자 추출\n",
        "## 오로지 tablet 폴더 손글씨 용입니다. 공문서는 따로 구성해야 함\n",
        "def comparing_img_json(img, js):\n",
        "  img_list = []\n",
        "  \n",
        "  for i in img:\n",
        "    img_list.append(i[-1])\n",
        "  \n",
        "  return_img_list = []\n",
        "\n",
        "  for i in js:\n",
        "    if i[-1] in img_list:\n",
        "      return_img_list.append(i)\n",
        "\n",
        "  return return_img_list"
      ],
      "metadata": {
        "id": "3sf4vCb-znYb"
      },
      "execution_count": null,
      "outputs": []
    },
    {
      "cell_type": "code",
      "source": [
        "## 원근변환용 좌표 추출 함수\n",
        "\n",
        "def cal_center(arr):\n",
        "    mins = np.min(arr, axis=0)\n",
        "    maxs = np.max(arr, axis=0)\n",
        "    \n",
        "    X_low = mins[0]\n",
        "    X_max = maxs[0]\n",
        "    Y_low = mins[1]\n",
        "    Y_max = maxs[1]\n",
        "    \n",
        "    L_H = [X_low, Y_low]\n",
        "    L_L = [X_low, Y_max]\n",
        "    R_H = [X_max, Y_low]\n",
        "    R_L = [X_max, Y_max]\n",
        "    \n",
        "    result = np.float32([L_H, L_L, R_H, R_L])\n",
        "    \n",
        "    return result"
      ],
      "metadata": {
        "id": "O6URMqmW6f-3"
      },
      "execution_count": null,
      "outputs": []
    },
    {
      "cell_type": "code",
      "source": [
        "## 원근 변환 함수\n",
        "def warp_Perspective(img, js):\n",
        "    rows, cols = img.shape[:2]\n",
        "    \n",
        "    #---① 원근 변환 전 후 4개 좌표\n",
        "    np_js = np.array(js).reshape(4,2)\n",
        "    pts1 = cal_center(np_js)\n",
        "\n",
        "    rows = int(pts1[1][1] - pts1[0][1])\n",
        "    cols = int(pts1[2][0] - pts1[1][0])\n",
        "    \n",
        "    pts2 = np.float32([[0,0], [0,rows-1], [cols-1, 0], [cols-1,rows-1]])\n",
        "\n",
        "    #---③ 원근 변환 행렬 계산\n",
        "    mtrx = cv2.getPerspectiveTransform(pts1, pts2)\n",
        "    #---④ 원근 변환 적용\n",
        "    dst = cv2.warpPerspective(img, mtrx, (cols, rows))\n",
        "  \n",
        "\n",
        "    return dst"
      ],
      "metadata": {
        "id": "D_2j8ejP4_h4"
      },
      "execution_count": null,
      "outputs": []
    },
    {
      "cell_type": "code",
      "source": [
        "def img_slicing(path, img, word):\n",
        "  pil_img = Image.fromarray(img)\n",
        "  word_size = len(word)\n",
        "  img_size = pil_img.size\n",
        "\n",
        "  y_slice = img_size[1]\n",
        "  x_slice = int(img_size[0]/word_size)\n",
        "\n",
        "\n",
        "  for i in range(word_size):\n",
        "    croppedImage = pil_img.crop((0+(i*x_slice), 0, (i+1)*x_slice, y_slice))\n",
        "    save_image(path, word[i], croppedImage)"
      ],
      "metadata": {
        "id": "_azOyEBHD0pM"
      },
      "execution_count": null,
      "outputs": []
    },
    {
      "cell_type": "code",
      "source": [
        "def save_image(path, one_word, cropimage):\n",
        "  directory = path+'/전처리/'+one_word\n",
        "  global FILENUMBER\n",
        "  try:\n",
        "    if not os.path.exists(directory):\n",
        "      os.makedirs(directory)\n",
        "  except:\n",
        "    pass\n",
        "  cropimage.save(directory+'/{}_{}.png'.format(FILENUMBER, one_word))\n",
        "  FILENUMBER+=1"
      ],
      "metadata": {
        "id": "0qmlJ8KFFoam"
      },
      "execution_count": null,
      "outputs": []
    },
    {
      "cell_type": "code",
      "source": [
        "global FILENUMBER\n",
        "FILENUMBER = 1"
      ],
      "metadata": {
        "id": "RVnEw9aXRmx5"
      },
      "execution_count": null,
      "outputs": []
    },
    {
      "cell_type": "code",
      "source": [
        "reader = easyocr.Reader(['ko', 'en'])"
      ],
      "metadata": {
        "id": "baRY6o5qzFzF"
      },
      "execution_count": null,
      "outputs": []
    },
    {
      "cell_type": "code",
      "source": [
        "filelist = os.listdir(PATH_TABLET)"
      ],
      "metadata": {
        "id": "I4K5UAHM3wr-"
      },
      "execution_count": null,
      "outputs": []
    },
    {
      "cell_type": "code",
      "source": [
        "filelist.sort()"
      ],
      "metadata": {
        "id": "1I03qaBWuOa-"
      },
      "execution_count": null,
      "outputs": []
    },
    {
      "cell_type": "code",
      "source": [
        "## 파일명 분할 추출\n",
        "pnglist = []\n",
        "jsonlist = []\n",
        "\n",
        "for i in range(len(filelist)):\n",
        "\n",
        "  if i == len(filelist)-2:\n",
        "    break\n",
        "\n",
        "  split1 = filelist[i].split('.')[0]\n",
        "  split2 = filelist[i+1].split('.')[0]\n",
        "\n",
        "  if split1 == split2:\n",
        "    pnglist.append(split1+'.png')\n",
        "    jsonlist.append(split1+'.json')\n",
        "  else:\n",
        "    continue"
      ],
      "metadata": {
        "id": "1UhDeaYL5r-w"
      },
      "execution_count": null,
      "outputs": []
    },
    {
      "cell_type": "code",
      "source": [
        "for i, j in tqdm(zip(pnglist, jsonlist)):\n",
        "  result = reader.readtext(PATH_TABLET+i)\n",
        "  img = cv2.imread(PATH_TABLET+i)\n",
        "\n",
        "  img_data = image_loca(result)\n",
        "  js_data = json_data(PATH_TABLET+j)\n",
        "\n",
        "  target = comparing_img_json(img_data, js_data)\n",
        "  for t in target:\n",
        "    order = t[:-1]\n",
        "    pre_img = warp_Perspective(img, order)\n",
        "    img_slicing(PATH_TABLET, pre_img, t[-1])"
      ],
      "metadata": {
        "id": "KkxofKcZEQfJ",
        "colab": {
          "base_uri": "https://localhost:8080/"
        },
        "outputId": "991e1c1b-02bd-4080-ac95-a6a626242260"
      },
      "execution_count": null,
      "outputs": [
        {
          "output_type": "stream",
          "name": "stderr",
          "text": [
            "5307it [3:16:40,  2.22s/it]\n"
          ]
        }
      ]
    }
  ]
}