{
  "nbformat": 4,
  "nbformat_minor": 0,
  "metadata": {
    "colab": {
      "name": "데이터전처리_통합.ipynb",
      "provenance": [],
      "collapsed_sections": [],
      "machine_shape": "hm"
    },
    "kernelspec": {
      "name": "python3",
      "display_name": "Python 3"
    },
    "language_info": {
      "name": "python"
    },
    "accelerator": "GPU"
  },
  "cells": [
    {
      "cell_type": "code",
      "execution_count": null,
      "metadata": {
        "colab": {
          "base_uri": "https://localhost:8080/"
        },
        "id": "MXOfrAlQ9WM2",
        "outputId": "ab469c28-00ec-4b77-91f7-1c32f7ff3a2c"
      },
      "outputs": [
        {
          "output_type": "stream",
          "name": "stdout",
          "text": [
            "Mounted at /gdrive\n"
          ]
        }
      ],
      "source": [
        "from google.colab import drive\n",
        "drive.mount('/gdrive', force_remount=True)"
      ]
    },
    {
      "cell_type": "code",
      "source": [
        "import os\n",
        "import cv2\n",
        "import numpy as np\n",
        "import os, re, glob\n",
        "import cv2\n",
        "from tqdm import tqdm\n",
        "import numpy as np"
      ],
      "metadata": {
        "id": "v_h-vAmBDH9Y"
      },
      "execution_count": null,
      "outputs": []
    },
    {
      "cell_type": "code",
      "source": [
        "PATH_tablet = '../gdrive/MyDrive/공모전용/HW-OCR/4.Validaiton/tablet/R.Free/전처리/'"
      ],
      "metadata": {
        "id": "U10Xb00qJfMG"
      },
      "execution_count": null,
      "outputs": []
    },
    {
      "cell_type": "code",
      "source": [
        "categories = os.listdir(PATH_tablet)"
      ],
      "metadata": {
        "id": "7W-V6dLbWIXw"
      },
      "execution_count": null,
      "outputs": []
    },
    {
      "cell_type": "code",
      "source": [
        "num_classes = len(categories)\n",
        "num_classes"
      ],
      "metadata": {
        "colab": {
          "base_uri": "https://localhost:8080/"
        },
        "id": "jalbNZSvWRG0",
        "outputId": "d06c1a51-1dd2-4b6d-94f0-dc4bfd2b5cc6"
      },
      "execution_count": null,
      "outputs": [
        {
          "output_type": "execute_result",
          "data": {
            "text/plain": [
              "968"
            ]
          },
          "metadata": {},
          "execution_count": 5
        }
      ]
    },
    {
      "cell_type": "code",
      "source": [
        "X = []\n",
        "Y = []\n",
        "count = 0"
      ],
      "metadata": {
        "id": "yixtGPFjvynj"
      },
      "execution_count": null,
      "outputs": []
    },
    {
      "cell_type": "code",
      "source": [
        "image_w = 48\n",
        "image_h = 48\n",
        "\n",
        "for idex, categorie in tqdm(enumerate(categories)):\n",
        "    label = [0 for i in range(num_classes)]\n",
        "    label[idex] = 1\n",
        "    image_dir = PATH_tablet + categorie + '/'\n",
        "  \n",
        "    for top, dir, f in os.walk(image_dir):\n",
        "        for filename in f:\n",
        "            count+=1\n",
        "            img = cv2.imread(image_dir+filename)\n",
        "            try:\n",
        "              img = cv2.cvtColor(img, cv2.COLOR_BGR2GRAY)\n",
        "            except:\n",
        "              print('에러명 : ',image_dir+filename)\n",
        "              continue\n",
        "            img = cv2.resize(img, dsize=(48, 48))\n",
        "            X.append(img/256)\n",
        "            Y.append(label)\n",
        "            \n",
        " \n",
        "X = np.array(X)\n",
        "Y = np.array(Y)\n"
      ],
      "metadata": {
        "colab": {
          "base_uri": "https://localhost:8080/"
        },
        "id": "VdcpmatiJ4qu",
        "outputId": "77cebff5-c3a1-4b66-e333-ee9b3ba140e6"
      },
      "execution_count": null,
      "outputs": [
        {
          "output_type": "stream",
          "name": "stderr",
          "text": [
            "40it [12:48,  7.94s/it]"
          ]
        },
        {
          "output_type": "stream",
          "name": "stdout",
          "text": [
            "에러명 :  ../gdrive/MyDrive/공모전용/HW-OCR/4.Validaiton/tablet/R.Free/전처리/상/265431_상.png\n"
          ]
        },
        {
          "output_type": "stream",
          "name": "stderr",
          "text": [
            "256it [44:50, 10.19s/it]"
          ]
        },
        {
          "output_type": "stream",
          "name": "stdout",
          "text": [
            "에러명 :  ../gdrive/MyDrive/공모전용/HW-OCR/4.Validaiton/tablet/R.Free/전처리/시/264433_시.png\n"
          ]
        },
        {
          "output_type": "stream",
          "name": "stderr",
          "text": [
            "968it [1:40:04,  6.20s/it]\n"
          ]
        }
      ]
    },
    {
      "cell_type": "markdown",
      "source": [
        "## 모델링 & Tensorboard"
      ],
      "metadata": {
        "id": "_BwBku4o2Q86"
      }
    },
    {
      "cell_type": "code",
      "source": [
        "from sklearn.model_selection import train_test_split\n",
        "X_train, X_test, Y_train, Y_test = train_test_split(X,Y)\n",
        "xy = (X_train, X_test, Y_train, Y_test)"
      ],
      "metadata": {
        "id": "hUU-LhAdu-Ia"
      },
      "execution_count": null,
      "outputs": []
    },
    {
      "cell_type": "code",
      "source": [
        "import numpy as np"
      ],
      "metadata": {
        "id": "WZ7XaEdydjbf"
      },
      "execution_count": null,
      "outputs": []
    },
    {
      "cell_type": "code",
      "source": [
        "## 모델 저장. data_1은 tablet - R 데이터 뿐\n",
        "np.save('../gdrive/MyDrive/공모전용/HW-OCR/data_1.npy',xy)"
      ],
      "metadata": {
        "colab": {
          "base_uri": "https://localhost:8080/"
        },
        "id": "EkQexCWudOWw",
        "outputId": "8dd8c9a2-67f8-4c9e-f405-37da815d53c0"
      },
      "execution_count": null,
      "outputs": [
        {
          "output_type": "stream",
          "name": "stderr",
          "text": [
            "/usr/local/lib/python3.7/dist-packages/numpy/core/_asarray.py:136: VisibleDeprecationWarning: Creating an ndarray from ragged nested sequences (which is a list-or-tuple of lists-or-tuples-or ndarrays with different lengths or shapes) is deprecated. If you meant to do this, you must specify 'dtype=object' when creating the ndarray\n",
            "  return array(a, dtype, copy=False, order=order, subok=True)\n"
          ]
        }
      ]
    },
    {
      "cell_type": "code",
      "source": [
        "from keras.models import Sequential\n",
        "from keras.layers import Dropout, Activation, Dense\n",
        "from keras.layers import Flatten, Convolution2D, MaxPooling2D\n",
        "from keras.models import load_model\n",
        "import cv2\n",
        "import numpy as np"
      ],
      "metadata": {
        "id": "07W41567yrH6"
      },
      "execution_count": null,
      "outputs": []
    },
    {
      "cell_type": "code",
      "source": [
        "#X_train, X_test, Y_train, Y_test = np.load('data_1.npy')"
      ],
      "metadata": {
        "colab": {
          "base_uri": "https://localhost:8080/",
          "height": 303
        },
        "id": "zO7z_zkT_UXi",
        "outputId": "99abe176-6bc1-4ab2-9101-7f38469da3d3"
      },
      "execution_count": null,
      "outputs": [
        {
          "output_type": "error",
          "ename": "FileNotFoundError",
          "evalue": "ignored",
          "traceback": [
            "\u001b[0;31m---------------------------------------------------------------------------\u001b[0m",
            "\u001b[0;31mFileNotFoundError\u001b[0m                         Traceback (most recent call last)",
            "\u001b[0;32m<ipython-input-8-5f1191aa921c>\u001b[0m in \u001b[0;36m<module>\u001b[0;34m()\u001b[0m\n\u001b[0;32m----> 1\u001b[0;31m \u001b[0mX_train\u001b[0m\u001b[0;34m,\u001b[0m \u001b[0mX_test\u001b[0m\u001b[0;34m,\u001b[0m \u001b[0mY_train\u001b[0m\u001b[0;34m,\u001b[0m \u001b[0mY_test\u001b[0m \u001b[0;34m=\u001b[0m \u001b[0mnp\u001b[0m\u001b[0;34m.\u001b[0m\u001b[0mload\u001b[0m\u001b[0;34m(\u001b[0m\u001b[0;34m'data_1.npy'\u001b[0m\u001b[0;34m)\u001b[0m\u001b[0;34m\u001b[0m\u001b[0;34m\u001b[0m\u001b[0m\n\u001b[0m",
            "\u001b[0;32m/usr/local/lib/python3.7/dist-packages/numpy/lib/npyio.py\u001b[0m in \u001b[0;36mload\u001b[0;34m(file, mmap_mode, allow_pickle, fix_imports, encoding)\u001b[0m\n\u001b[1;32m    414\u001b[0m             \u001b[0mown_fid\u001b[0m \u001b[0;34m=\u001b[0m \u001b[0;32mFalse\u001b[0m\u001b[0;34m\u001b[0m\u001b[0;34m\u001b[0m\u001b[0m\n\u001b[1;32m    415\u001b[0m         \u001b[0;32melse\u001b[0m\u001b[0;34m:\u001b[0m\u001b[0;34m\u001b[0m\u001b[0;34m\u001b[0m\u001b[0m\n\u001b[0;32m--> 416\u001b[0;31m             \u001b[0mfid\u001b[0m \u001b[0;34m=\u001b[0m \u001b[0mstack\u001b[0m\u001b[0;34m.\u001b[0m\u001b[0menter_context\u001b[0m\u001b[0;34m(\u001b[0m\u001b[0mopen\u001b[0m\u001b[0;34m(\u001b[0m\u001b[0mos_fspath\u001b[0m\u001b[0;34m(\u001b[0m\u001b[0mfile\u001b[0m\u001b[0;34m)\u001b[0m\u001b[0;34m,\u001b[0m \u001b[0;34m\"rb\"\u001b[0m\u001b[0;34m)\u001b[0m\u001b[0;34m)\u001b[0m\u001b[0;34m\u001b[0m\u001b[0;34m\u001b[0m\u001b[0m\n\u001b[0m\u001b[1;32m    417\u001b[0m             \u001b[0mown_fid\u001b[0m \u001b[0;34m=\u001b[0m \u001b[0;32mTrue\u001b[0m\u001b[0;34m\u001b[0m\u001b[0;34m\u001b[0m\u001b[0m\n\u001b[1;32m    418\u001b[0m \u001b[0;34m\u001b[0m\u001b[0m\n",
            "\u001b[0;31mFileNotFoundError\u001b[0m: [Errno 2] No such file or directory: 'data_1.npy'"
          ]
        }
      ]
    },
    {
      "cell_type": "code",
      "source": [
        "X_train = X_train.reshape((142719, 48, 48, 1))\n",
        "X_test = X_test.reshape((47574, 48, 48, 1))"
      ],
      "metadata": {
        "id": "3kbuPZCL7hSt"
      },
      "execution_count": null,
      "outputs": []
    },
    {
      "cell_type": "code",
      "source": [
        "from keras import models, layers"
      ],
      "metadata": {
        "id": "nqQs2kra-cUn"
      },
      "execution_count": null,
      "outputs": []
    },
    {
      "cell_type": "code",
      "source": [
        "\n",
        "CNN = models.Sequential()\n",
        "CNN.add(layers.Conv2D(128, (3,3), activation='relu',input_shape=(48,48,1)))\n",
        "CNN.add(layers.MaxPooling2D((2,2)))\n",
        "CNN.add(layers.Dropout(0.25))\n",
        "\n",
        "CNN.add(layers.Conv2D(256, (3,3), activation='relu'))\n",
        "CNN.add(layers.MaxPooling2D((2,2)))\n",
        "CNN.add(layers.Dropout(0.25))\n",
        "\n",
        "CNN.add(layers.Conv2D(512, (3,3), activation='relu'))\n",
        "CNN.add(layers.Flatten())\n",
        "\n",
        "CNN.add(layers.Dense(512, activation='relu'))\n",
        "\n",
        "CNN.add(layers.Dense(num_classes, activation='softmax'))\n",
        "\n",
        "#CNN 함수 설정 후 Training\n",
        "from keras import optimizers\n",
        "CNN.compile(optimizer = 'adam',\n",
        "loss = 'categorical_crossentropy',\n",
        "metrics = ['accuracy'])\n",
        "\n",
        "CNN.summary()"
      ],
      "metadata": {
        "id": "IhgeXCd0ywYO",
        "colab": {
          "base_uri": "https://localhost:8080/"
        },
        "outputId": "aa078007-4575-4a90-c756-f367379af192"
      },
      "execution_count": null,
      "outputs": [
        {
          "output_type": "stream",
          "name": "stdout",
          "text": [
            "Model: \"sequential\"\n",
            "_________________________________________________________________\n",
            " Layer (type)                Output Shape              Param #   \n",
            "=================================================================\n",
            " conv2d (Conv2D)             (None, 46, 46, 128)       1280      \n",
            "                                                                 \n",
            " max_pooling2d (MaxPooling2D  (None, 23, 23, 128)      0         \n",
            " )                                                               \n",
            "                                                                 \n",
            " dropout (Dropout)           (None, 23, 23, 128)       0         \n",
            "                                                                 \n",
            " conv2d_1 (Conv2D)           (None, 21, 21, 256)       295168    \n",
            "                                                                 \n",
            " max_pooling2d_1 (MaxPooling  (None, 10, 10, 256)      0         \n",
            " 2D)                                                             \n",
            "                                                                 \n",
            " dropout_1 (Dropout)         (None, 10, 10, 256)       0         \n",
            "                                                                 \n",
            " conv2d_2 (Conv2D)           (None, 8, 8, 512)         1180160   \n",
            "                                                                 \n",
            " flatten (Flatten)           (None, 32768)             0         \n",
            "                                                                 \n",
            " dense (Dense)               (None, 512)               16777728  \n",
            "                                                                 \n",
            " dense_1 (Dense)             (None, 968)               496584    \n",
            "                                                                 \n",
            "=================================================================\n",
            "Total params: 18,750,920\n",
            "Trainable params: 18,750,920\n",
            "Non-trainable params: 0\n",
            "_________________________________________________________________\n"
          ]
        }
      ]
    },
    {
      "cell_type": "code",
      "source": [
        "hist = CNN.fit(X_train, Y_train,\n",
        "epochs = 10, batch_size = 128,\n",
        "validation_split=0.2)\n",
        "# model.save('Gersang.h5')"
      ],
      "metadata": {
        "colab": {
          "base_uri": "https://localhost:8080/"
        },
        "id": "h1vJKXWq--k7",
        "outputId": "5298352e-8a5f-462d-f559-b3a5b6f54b93"
      },
      "execution_count": null,
      "outputs": [
        {
          "output_type": "stream",
          "name": "stdout",
          "text": [
            "Epoch 1/10\n",
            "892/892 [==============================] - 35s 30ms/step - loss: 3.5425 - accuracy: 0.3324 - val_loss: 1.4871 - val_accuracy: 0.6651\n",
            "Epoch 2/10\n",
            "892/892 [==============================] - 25s 28ms/step - loss: 1.0207 - accuracy: 0.7498 - val_loss: 0.7792 - val_accuracy: 0.8105\n",
            "Epoch 3/10\n",
            "892/892 [==============================] - 25s 28ms/step - loss: 0.5725 - accuracy: 0.8436 - val_loss: 0.6349 - val_accuracy: 0.8393\n",
            "Epoch 4/10\n",
            "892/892 [==============================] - 25s 28ms/step - loss: 0.3893 - accuracy: 0.8858 - val_loss: 0.6269 - val_accuracy: 0.8442\n",
            "Epoch 5/10\n",
            "892/892 [==============================] - 25s 28ms/step - loss: 0.2825 - accuracy: 0.9138 - val_loss: 0.5844 - val_accuracy: 0.8637\n",
            "Epoch 6/10\n",
            "892/892 [==============================] - 25s 28ms/step - loss: 0.2216 - accuracy: 0.9302 - val_loss: 0.6121 - val_accuracy: 0.8651\n",
            "Epoch 7/10\n",
            "892/892 [==============================] - 25s 28ms/step - loss: 0.1781 - accuracy: 0.9423 - val_loss: 0.6573 - val_accuracy: 0.8589\n",
            "Epoch 8/10\n",
            "892/892 [==============================] - 25s 28ms/step - loss: 0.1452 - accuracy: 0.9524 - val_loss: 0.6956 - val_accuracy: 0.8630\n",
            "Epoch 9/10\n",
            "892/892 [==============================] - 25s 28ms/step - loss: 0.1275 - accuracy: 0.9579 - val_loss: 0.7075 - val_accuracy: 0.8613\n",
            "Epoch 10/10\n",
            "892/892 [==============================] - 25s 28ms/step - loss: 0.1125 - accuracy: 0.9634 - val_loss: 0.7304 - val_accuracy: 0.8656\n"
          ]
        }
      ]
    },
    {
      "cell_type": "code",
      "source": [
        ""
      ],
      "metadata": {
        "id": "Z6n7z192EH9A"
      },
      "execution_count": null,
      "outputs": []
    }
  ]
}