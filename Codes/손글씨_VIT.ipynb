{
  "nbformat": 4,
  "nbformat_minor": 0,
  "metadata": {
    "colab": {
      "name": "손글씨_VIT.ipynb",
      "provenance": [],
      "collapsed_sections": [],
      "machine_shape": "hm"
    },
    "kernelspec": {
      "name": "python3",
      "display_name": "Python 3"
    },
    "language_info": {
      "name": "python"
    },
    "accelerator": "GPU"
  },
  "cells": [
    {
      "cell_type": "code",
      "source": [
        "from google.colab import drive\n",
        "drive.mount('/gdrive', force_remount=True)"
      ],
      "metadata": {
        "colab": {
          "base_uri": "https://localhost:8080/"
        },
        "id": "C4gbwBU9RZaS",
        "outputId": "a3529407-3f89-4a27-b145-4fb7730be856"
      },
      "execution_count": null,
      "outputs": [
        {
          "output_type": "stream",
          "name": "stdout",
          "text": [
            "Mounted at /gdrive\n"
          ]
        }
      ]
    },
    {
      "cell_type": "code",
      "execution_count": null,
      "metadata": {
        "id": "_jbl2is1RTxl"
      },
      "outputs": [],
      "source": [
        "from keras.models import Sequential\n",
        "from keras.layers import Dropout, Activation, Dense\n",
        "from keras.layers import Flatten, Convolution2D, MaxPooling2D\n",
        "from keras.models import load_model\n",
        "from keras import models, layers\n",
        "import tensorflow as tf\n",
        "import cv2\n",
        "import numpy as np"
      ]
    },
    {
      "cell_type": "code",
      "source": [
        "PATH_tablet = '../gdrive/MyDrive/공모전용/HW-OCR/4.Validaiton/tablet/R.Free/전처리/'"
      ],
      "metadata": {
        "id": "hqJUYyOdW2MI"
      },
      "execution_count": null,
      "outputs": []
    },
    {
      "cell_type": "code",
      "source": [
        "X_train, X_test, Y_train, Y_test = np.load('../gdrive/MyDrive/공모전용/HW-OCR/data_1.npy', allow_pickle = True)"
      ],
      "metadata": {
        "id": "RcGuKcqtW5-k"
      },
      "execution_count": null,
      "outputs": []
    },
    {
      "cell_type": "code",
      "source": [
        "X_train = X_train.reshape((142719, 48, 48, 1))\n",
        "X_test = X_test.reshape((47574, 48, 48, 1))"
      ],
      "metadata": {
        "id": "ut7c9LpkW8rx"
      },
      "execution_count": null,
      "outputs": []
    },
    {
      "cell_type": "code",
      "source": [
        "Y_train = Y_train.reshape((142719, 968, 1))\n",
        "Y_test = Y_test.reshape((47574, 968, 1))"
      ],
      "metadata": {
        "id": "xTvL4MXsdbXr"
      },
      "execution_count": null,
      "outputs": []
    },
    {
      "cell_type": "code",
      "source": [
        "!pip install tensorflow_addons"
      ],
      "metadata": {
        "colab": {
          "base_uri": "https://localhost:8080/"
        },
        "id": "PTnArsf3a0CZ",
        "outputId": "5b01512b-26d1-44e5-af0e-8b05094c91c5"
      },
      "execution_count": null,
      "outputs": [
        {
          "output_type": "stream",
          "name": "stdout",
          "text": [
            "Collecting tensorflow_addons\n",
            "  Downloading tensorflow_addons-0.15.0-cp37-cp37m-manylinux_2_12_x86_64.manylinux2010_x86_64.whl (1.1 MB)\n",
            "\u001b[K     |████████████████████████████████| 1.1 MB 4.1 MB/s \n",
            "\u001b[?25hRequirement already satisfied: typeguard>=2.7 in /usr/local/lib/python3.7/dist-packages (from tensorflow_addons) (2.7.1)\n",
            "Installing collected packages: tensorflow-addons\n",
            "Successfully installed tensorflow-addons-0.15.0\n"
          ]
        }
      ]
    },
    {
      "cell_type": "code",
      "source": [
        "import tensorflow\n",
        "from tensorflow.keras.activations import gelu\n",
        "import tensorflow_addons as tfa\n",
        "from typing import List, Tuple\n",
        " \n",
        "###############################################\n",
        "############ 멀티 헤드 어텐션 정의 ##############\n",
        "###############################################\n",
        " \n",
        "class MultiHeadedAttention(tensorflow.keras.Model):\n",
        "    def __init__(self, dimension: int, heads: int = 8):\n",
        "        super(MultiHeadedAttention, self).__init__()\n",
        "        self.heads = heads\n",
        "        self.dimension = dimension\n",
        "        assert dimension // heads\n",
        "        self.depth = dimension // heads\n",
        "        self.wq = tensorflow.keras.layers.Dense(dimension)\n",
        "        self.wk = tensorflow.keras.layers.Dense(dimension)\n",
        "        self.wv = tensorflow.keras.layers.Dense(dimension)\n",
        "        self.dense = tensorflow.keras.layers.Dense(dimension)\n",
        " \n",
        "    def call(self, inputs):\n",
        "        output = None\n",
        "        batch_size = tensorflow.shape(inputs)[0]\n",
        "        q: tensorflow.Tensor = self.wq(inputs)\n",
        "        k: tensorflow.Tensor = self.wk(inputs)\n",
        "        v: tensorflow.Tensor = self.wv(inputs)\n",
        " \n",
        "        def split_heads(x, batch_size):\n",
        "            x = tensorflow.reshape(x, (batch_size, -1, self.heads, self.depth))\n",
        "            return tensorflow.transpose(x, perm=[0,2,1,3])\n",
        " \n",
        "        q = split_heads(q, batch_size)\n",
        "        k = split_heads(k, batch_size)\n",
        "        v = split_heads(v, batch_size)\n",
        " \n",
        "        def scaled_dot_product_attention(q,k,v):\n",
        "            matmul_qk = tensorflow.matmul(q, k, transpose_b = True)\n",
        "            dk = tensorflow.cast(tensorflow.shape(k)[-1], tensorflow.float32)\n",
        "            scaled_attention_logits = matmul_qk / tensorflow.math.sqrt(dk)\n",
        " \n",
        "            softmax = tensorflow.nn.softmax(scaled_attention_logits, axis=-1)\n",
        "            scaled_dot_product_attention_output = tensorflow.matmul(softmax, v)\n",
        "            return scaled_dot_product_attention_output, softmax\n",
        "        \n",
        "        attention_weights, softmax = scaled_dot_product_attention(q, k, v)\n",
        "        scaled_attention = tensorflow.transpose(attention_weights, perm=[0,2,1,3])\n",
        "        concat_attention = tensorflow.reshape(scaled_attention, (batch_size, -1, self.dimension))\n",
        "        output = self.dense(concat_attention)\n",
        "        return output\n",
        " \n",
        "###############################################\n",
        "############ 레지듀얼 블록 정의 ################\n",
        "###############################################\n",
        " \n",
        "class ResidualBlock(tensorflow.keras.Model):\n",
        "    def __init__(self, residual_function):\n",
        "        super(ResidualBlock, self).__init__()\n",
        "        self.residual_function = residual_function\n",
        " \n",
        "    def call(self, inputs):\n",
        "        return self.residual_function(inputs) + inputs\n",
        " \n",
        "###############################################\n",
        "######## LayerNormalization 정의 ##############\n",
        "###############################################\n",
        " \n",
        "class NormalizationBlock(tensorflow.keras.Model):\n",
        "    def __init__(self, norm_function, epsilon=1e-5):\n",
        "        super(NormalizationBlock, self).__init__()\n",
        "        self.norm_function = norm_function\n",
        "        self.normalize = tensorflow.keras.layers.LayerNormalization(epsilon=1e-6)\n",
        " \n",
        "    def call(self, inputs):\n",
        "        return self.norm_function(self.normalize(inputs))\n",
        " \n",
        "###############################################\n",
        "############### MLP 블록 정의 #################\n",
        "###############################################\n",
        " \n",
        "class MLPBlock(tensorflow.keras.Model):\n",
        "    def __init__(self, output_dimension, hidden_dimension):\n",
        "        super(MLPBlock, self).__init__()\n",
        "        self.output_dimension = tensorflow.keras.layers.Dense(output_dimension)\n",
        "        self.hidden_dimension = tensorflow.keras.layers.Dense(hidden_dimension)\n",
        "        self.dropout1 = tensorflow.keras.layers.Dropout(0.1)\n",
        "        self.dropout2 = tensorflow.keras.layers.Dropout(0.1)\n",
        " \n",
        "    def call(self, inputs):\n",
        "        output = None\n",
        "        x = self.hidden_dimension(inputs)\n",
        "        x = gelu(x)\n",
        "        x = self.dropout1(x)\n",
        "        x = self.output_dimension(x)\n",
        "        x = gelu(x)\n",
        "        output = self.dropout2(x)\n",
        "        return output\n",
        " \n",
        " \n",
        " \n",
        "###############################################\n",
        "############ 트랜스포머 인코더 정의 #############\n",
        "###############################################\n",
        " \n",
        "class TransformerEncoder(tensorflow.keras.layers.Layer):\n",
        "    def __init__(self, dimension, depth, heads, mlp_dimension): \n",
        "        super(TransformerEncoder, self).__init__()\n",
        "        layers_ = []\n",
        "        layers_.append(tensorflow.keras.Input(shape=((CFG.obj_image_size//CFG.patch_size)*(CFG.obj_image_size//CFG.patch_size)+1,dimension)))\n",
        "        for i in range(depth):\n",
        "            layers_.append(NormalizationBlock(ResidualBlock(MultiHeadedAttention(dimension, heads))))\n",
        "            layers_.append(NormalizationBlock(ResidualBlock(MLPBlock(dimension, mlp_dimension))))\n",
        "        \n",
        "        self.layers_ = tensorflow.keras.Sequential(layers_)\n",
        " \n",
        "    def call(self, inputs):\n",
        "        return self.layers_(inputs)\n",
        " \n",
        "###############################################\n",
        "############### VIT 전체 구현 #################\n",
        "###############################################\n",
        " \n",
        "class ImageTransformer(tensorflow.keras.Model):\n",
        "    def __init__(\n",
        "            self, image_size, patch_size, n_classes, batch_size,\n",
        "            dimension, depth, heads, mlp_dimension, channels=3):\n",
        "        super(ImageTransformer, self).__init__()\n",
        "        assert image_size % patch_size == 0, 'invalid patch size for image size'\n",
        " \n",
        "        num_patches = (image_size // patch_size) ** 2\n",
        "        self.patch_size = patch_size\n",
        "        self.dimension = dimension\n",
        "        self.batch_size = batch_size\n",
        " \n",
        "        self.positional_embedding = self.add_weight(\n",
        "            \"position_embeddings\", shape=[num_patches + 1, dimension],\n",
        "            initializer=tensorflow.keras.initializers.RandomNormal(), dtype=tensorflow.float32\n",
        "        )\n",
        "        self.classification_token = self.add_weight(\n",
        "            \"classification_token\", shape=[1, 1, dimension],\n",
        "            initializer=tensorflow.keras.initializers.RandomNormal(), dtype=tensorflow.float32\n",
        "        )\n",
        "        self.heads = heads\n",
        "        self.depth = depth\n",
        "        self.mlp_dimension = dimension\n",
        "        self.n_classes = n_classes\n",
        "        self.num_patches = num_patches\n",
        " \n",
        "        self.patch_projection = tensorflow.keras.layers.Dense(dimension)\n",
        "        self.normalization2 = tensorflow.keras.layers.LayerNormalization(epsilon=1e-6)\n",
        "        self.MLP = MLPBlock(self.dimension, self.mlp_dimension)\n",
        "        self.output_classes = tensorflow.keras.layers.Dense(self.n_classes)\n",
        "        self.transformer = TransformerEncoder(self.dimension, self.depth, self.heads, self.mlp_dimension)\n",
        "        self.dropout1 = tensorflow.keras.layers.Dropout(0.5)\n",
        " \n",
        "    def call(self, inputs):       \n",
        "        output = None\n",
        "        batch_size = tensorflow.shape(inputs)[0]\n",
        "        \n",
        "        ###############################################\n",
        "        ############ 가장 중요한 부분 ##################\n",
        "        ###############################################\n",
        " \n",
        "        # 이미지를 patch_size로 조각낸다.\n",
        "        patches = tensorflow.image.extract_patches(\n",
        "            images = inputs,\n",
        "            sizes = [1, self.patch_size, self.patch_size, 1],\n",
        "            strides = [1, self.patch_size, self.patch_size, 1],\n",
        "            rates = [1,1,1,1],\n",
        "            padding=\"VALID\",\n",
        "        )\n",
        " \n",
        "        patch_dims = patches.shape[-1]\n",
        "        patches = tensorflow.reshape(patches, [batch_size, patches.shape[1]*patches.shape[2], patch_dims])\n",
        "        x = self.patch_projection(patches)\n",
        "        \n",
        "        cls_pos = tensorflow.broadcast_to(\n",
        "            self.classification_token, [batch_size, 1, self.dimension]\n",
        "        )\n",
        "        x = tensorflow.concat([cls_pos, x], axis=1)\n",
        "        x = x + self.positional_embedding\n",
        "        x = self.transformer(x)\n",
        "        x = self.normalization2(x)\n",
        "        x = x[:,0,:]\n",
        "        x_keep = tensorflow.identity(x)\n",
        "        x = self.dropout1(x)\n",
        "        output = self.output_classes(x)\n",
        "        return output"
      ],
      "metadata": {
        "id": "g5dCxINfXVYY"
      },
      "execution_count": null,
      "outputs": []
    },
    {
      "cell_type": "code",
      "source": [
        "class CFG:\n",
        "    num_classes = 968\n",
        "    input_shape = (48, 48, 1)\n",
        "    learning_rate = 0.001\n",
        "    weight_decay = 0.0001\n",
        "    batch_size = 32\n",
        "    num_epochs = 20\n",
        "    image_size = 48\n",
        "    obj_image_size = 48\n",
        "    patch_size = 3\n",
        "    num_patches = (image_size // patch_size) ** 2\n",
        "    projection_dim = 64\n",
        "    num_heads = 8\n",
        "    transformer_layers = 3"
      ],
      "metadata": {
        "id": "pQMPTvg0Xfc1"
      },
      "execution_count": null,
      "outputs": []
    },
    {
      "cell_type": "code",
      "source": [
        "CFG = CFG()"
      ],
      "metadata": {
        "id": "Y85A6WaRgH9e"
      },
      "execution_count": null,
      "outputs": []
    },
    {
      "cell_type": "code",
      "source": [
        "with tf.device('/device:GPU:0'):\n",
        "  optimizer = tfa.optimizers.AdamW(learning_rate = CFG.learning_rate, weight_decay=CFG.weight_decay)\n",
        " \n",
        "  model_vit = ImageTransformer(CFG.image_size, CFG.patch_size, CFG.num_classes, CFG.batch_size, CFG.projection_dim, CFG.transformer_layers, CFG.num_heads, CFG.projection_dim)\n",
        "  model_vit.compile(\n",
        "          optimizer=optimizer,\n",
        "          loss=tensorflow.keras.losses.CategoricalCrossentropy(from_logits=True),\n",
        "          metrics=[tensorflow.keras.metrics.CategoricalAccuracy(name=\"accuracy\")])\n",
        " \n",
        "  hist = model_vit.fit(x=X_train, y=Y_train, batch_size=CFG.batch_size, epochs=CFG.num_epochs, validation_split=0.2, shuffle=True)\n",
        "  print('==============Training Finished===============')"
      ],
      "metadata": {
        "colab": {
          "base_uri": "https://localhost:8080/"
        },
        "id": "hpDZywOLbFA1",
        "outputId": "838060a5-d5fb-42e1-8c12-5ab54d38acc6"
      },
      "execution_count": null,
      "outputs": [
        {
          "output_type": "stream",
          "name": "stdout",
          "text": [
            "Epoch 1/20\n",
            "3568/3568 [==============================] - 142s 38ms/step - loss: 4.9711 - accuracy: 0.0829 - val_loss: 3.9042 - val_accuracy: 0.1723\n",
            "Epoch 2/20\n",
            "3568/3568 [==============================] - 132s 37ms/step - loss: 3.3746 - accuracy: 0.2748 - val_loss: 2.3210 - val_accuracy: 0.4686\n",
            "Epoch 3/20\n",
            "3568/3568 [==============================] - 132s 37ms/step - loss: 2.2439 - accuracy: 0.4888 - val_loss: 1.5214 - val_accuracy: 0.6404\n",
            "Epoch 4/20\n",
            "3568/3568 [==============================] - 132s 37ms/step - loss: 1.7075 - accuracy: 0.5982 - val_loss: 1.1347 - val_accuracy: 0.7230\n",
            "Epoch 5/20\n",
            "3568/3568 [==============================] - 132s 37ms/step - loss: 1.4586 - accuracy: 0.6541 - val_loss: 0.9706 - val_accuracy: 0.7606\n",
            "Epoch 6/20\n",
            "3568/3568 [==============================] - 132s 37ms/step - loss: 1.3224 - accuracy: 0.6841 - val_loss: 0.8632 - val_accuracy: 0.7879\n",
            "Epoch 7/20\n",
            "3568/3568 [==============================] - 132s 37ms/step - loss: 1.2290 - accuracy: 0.7053 - val_loss: 0.8661 - val_accuracy: 0.7842\n",
            "Epoch 8/20\n",
            "3568/3568 [==============================] - 132s 37ms/step - loss: 1.1666 - accuracy: 0.7194 - val_loss: 0.7890 - val_accuracy: 0.8053\n",
            "Epoch 9/20\n",
            "3568/3568 [==============================] - 132s 37ms/step - loss: 1.1188 - accuracy: 0.7300 - val_loss: 0.7477 - val_accuracy: 0.8123\n",
            "Epoch 10/20\n",
            "3568/3568 [==============================] - 132s 37ms/step - loss: 1.0769 - accuracy: 0.7417 - val_loss: 0.7139 - val_accuracy: 0.8207\n",
            "Epoch 11/20\n",
            "3568/3568 [==============================] - 132s 37ms/step - loss: 1.0460 - accuracy: 0.7483 - val_loss: 0.6816 - val_accuracy: 0.8311\n",
            "Epoch 12/20\n",
            "3568/3568 [==============================] - 132s 37ms/step - loss: 1.0196 - accuracy: 0.7539 - val_loss: 0.6895 - val_accuracy: 0.8272\n",
            "Epoch 13/20\n",
            "3568/3568 [==============================] - 132s 37ms/step - loss: 1.0048 - accuracy: 0.7593 - val_loss: 0.6583 - val_accuracy: 0.8358\n",
            "Epoch 14/20\n",
            "3568/3568 [==============================] - 132s 37ms/step - loss: 0.9882 - accuracy: 0.7618 - val_loss: 0.6853 - val_accuracy: 0.8323\n",
            "Epoch 15/20\n",
            "3568/3568 [==============================] - 132s 37ms/step - loss: 0.9778 - accuracy: 0.7650 - val_loss: 0.6336 - val_accuracy: 0.8440\n",
            "Epoch 16/20\n",
            "3568/3568 [==============================] - 131s 37ms/step - loss: 0.9575 - accuracy: 0.7693 - val_loss: 0.6137 - val_accuracy: 0.8456\n",
            "Epoch 17/20\n",
            "3568/3568 [==============================] - 131s 37ms/step - loss: 0.9467 - accuracy: 0.7715 - val_loss: 0.5914 - val_accuracy: 0.8544\n",
            "Epoch 18/20\n",
            "3568/3568 [==============================] - 132s 37ms/step - loss: 0.9353 - accuracy: 0.7756 - val_loss: 0.6054 - val_accuracy: 0.8489\n",
            "Epoch 19/20\n",
            "3568/3568 [==============================] - 132s 37ms/step - loss: 0.9239 - accuracy: 0.7788 - val_loss: 0.6105 - val_accuracy: 0.8473\n",
            "Epoch 20/20\n",
            "3568/3568 [==============================] - 133s 37ms/step - loss: 0.9129 - accuracy: 0.7814 - val_loss: 0.5947 - val_accuracy: 0.8513\n",
            "==============Training Finished===============\n"
          ]
        }
      ]
    },
    {
      "cell_type": "code",
      "source": [
        "model_vit.save('../gdrive/MyDrive/공모전용/HW-OCR/VIT_model.h5', save_format='h5')"
      ],
      "metadata": {
        "colab": {
          "base_uri": "https://localhost:8080/",
          "height": 400
        },
        "id": "nLV7_IpJIFuc",
        "outputId": "6eb3e25c-860c-4837-969c-d217f51a8273"
      },
      "execution_count": null,
      "outputs": [
        {
          "output_type": "error",
          "ename": "NotImplementedError",
          "evalue": "ignored",
          "traceback": [
            "\u001b[0;31m---------------------------------------------------------------------------\u001b[0m",
            "\u001b[0;31mNotImplementedError\u001b[0m                       Traceback (most recent call last)",
            "\u001b[0;32m<ipython-input-14-d1b22a69f42b>\u001b[0m in \u001b[0;36m<module>\u001b[0;34m()\u001b[0m\n\u001b[0;32m----> 1\u001b[0;31m \u001b[0mmodel_vit\u001b[0m\u001b[0;34m.\u001b[0m\u001b[0msave\u001b[0m\u001b[0;34m(\u001b[0m\u001b[0;34m'../gdrive/MyDrive/공모전용/HW-OCR/VIT_model.h5'\u001b[0m\u001b[0;34m,\u001b[0m \u001b[0msave_format\u001b[0m\u001b[0;34m=\u001b[0m\u001b[0;34m'h5'\u001b[0m\u001b[0;34m)\u001b[0m\u001b[0;34m\u001b[0m\u001b[0;34m\u001b[0m\u001b[0m\n\u001b[0m",
            "\u001b[0;32m/usr/local/lib/python3.7/dist-packages/keras/utils/traceback_utils.py\u001b[0m in \u001b[0;36merror_handler\u001b[0;34m(*args, **kwargs)\u001b[0m\n\u001b[1;32m     65\u001b[0m     \u001b[0;32mexcept\u001b[0m \u001b[0mException\u001b[0m \u001b[0;32mas\u001b[0m \u001b[0me\u001b[0m\u001b[0;34m:\u001b[0m  \u001b[0;31m# pylint: disable=broad-except\u001b[0m\u001b[0;34m\u001b[0m\u001b[0;34m\u001b[0m\u001b[0m\n\u001b[1;32m     66\u001b[0m       \u001b[0mfiltered_tb\u001b[0m \u001b[0;34m=\u001b[0m \u001b[0m_process_traceback_frames\u001b[0m\u001b[0;34m(\u001b[0m\u001b[0me\u001b[0m\u001b[0;34m.\u001b[0m\u001b[0m__traceback__\u001b[0m\u001b[0;34m)\u001b[0m\u001b[0;34m\u001b[0m\u001b[0;34m\u001b[0m\u001b[0m\n\u001b[0;32m---> 67\u001b[0;31m       \u001b[0;32mraise\u001b[0m \u001b[0me\u001b[0m\u001b[0;34m.\u001b[0m\u001b[0mwith_traceback\u001b[0m\u001b[0;34m(\u001b[0m\u001b[0mfiltered_tb\u001b[0m\u001b[0;34m)\u001b[0m \u001b[0;32mfrom\u001b[0m \u001b[0;32mNone\u001b[0m\u001b[0;34m\u001b[0m\u001b[0;34m\u001b[0m\u001b[0m\n\u001b[0m\u001b[1;32m     68\u001b[0m     \u001b[0;32mfinally\u001b[0m\u001b[0;34m:\u001b[0m\u001b[0;34m\u001b[0m\u001b[0;34m\u001b[0m\u001b[0m\n\u001b[1;32m     69\u001b[0m       \u001b[0;32mdel\u001b[0m \u001b[0mfiltered_tb\u001b[0m\u001b[0;34m\u001b[0m\u001b[0;34m\u001b[0m\u001b[0m\n",
            "\u001b[0;32m/usr/local/lib/python3.7/dist-packages/keras/saving/save.py\u001b[0m in \u001b[0;36msave_model\u001b[0;34m(model, filepath, overwrite, include_optimizer, save_format, signatures, options, save_traces)\u001b[0m\n\u001b[1;32m    139\u001b[0m         not isinstance(model, sequential.Sequential)):\n\u001b[1;32m    140\u001b[0m       raise NotImplementedError(\n\u001b[0;32m--> 141\u001b[0;31m           \u001b[0;34m'Saving the model to HDF5 format requires the model to be a '\u001b[0m\u001b[0;34m\u001b[0m\u001b[0;34m\u001b[0m\u001b[0m\n\u001b[0m\u001b[1;32m    142\u001b[0m           \u001b[0;34m'Functional model or a Sequential model. It does not work for '\u001b[0m\u001b[0;34m\u001b[0m\u001b[0;34m\u001b[0m\u001b[0m\n\u001b[1;32m    143\u001b[0m           \u001b[0;34m'subclassed models, because such models are defined via the body of '\u001b[0m\u001b[0;34m\u001b[0m\u001b[0;34m\u001b[0m\u001b[0m\n",
            "\u001b[0;31mNotImplementedError\u001b[0m: Saving the model to HDF5 format requires the model to be a Functional model or a Sequential model. It does not work for subclassed models, because such models are defined via the body of a Python method, which isn't safely serializable. Consider saving to the Tensorflow SavedModel format (by setting save_format=\"tf\") or using `save_weights`."
          ]
        }
      ]
    },
    {
      "cell_type": "code",
      "source": [
        "from sklearn.metrics import classification_report\n",
        "import numpy as np\n",
        "Y_test = np.argmax((Y_test), axis=1)\n",
        "y_pred = hist.predict_classes(X_test)\n",
        "result = classification_report(Y_test, y_pred)\n",
        "print(result)"
      ],
      "metadata": {
        "colab": {
          "base_uri": "https://localhost:8080/",
          "height": 248
        },
        "id": "GJb_6bow5n58",
        "outputId": "1c6af8f7-78a4-4d6b-fc20-dcc21519bcf4"
      },
      "execution_count": null,
      "outputs": [
        {
          "output_type": "error",
          "ename": "AttributeError",
          "evalue": "ignored",
          "traceback": [
            "\u001b[0;31m---------------------------------------------------------------------------\u001b[0m",
            "\u001b[0;31mAttributeError\u001b[0m                            Traceback (most recent call last)",
            "\u001b[0;32m<ipython-input-24-ba4e986547e1>\u001b[0m in \u001b[0;36m<module>\u001b[0;34m()\u001b[0m\n\u001b[1;32m      2\u001b[0m \u001b[0;32mimport\u001b[0m \u001b[0mnumpy\u001b[0m \u001b[0;32mas\u001b[0m \u001b[0mnp\u001b[0m\u001b[0;34m\u001b[0m\u001b[0;34m\u001b[0m\u001b[0m\n\u001b[1;32m      3\u001b[0m \u001b[0mY_test\u001b[0m \u001b[0;34m=\u001b[0m \u001b[0mnp\u001b[0m\u001b[0;34m.\u001b[0m\u001b[0margmax\u001b[0m\u001b[0;34m(\u001b[0m\u001b[0;34m(\u001b[0m\u001b[0mY_test\u001b[0m\u001b[0;34m)\u001b[0m\u001b[0;34m,\u001b[0m \u001b[0maxis\u001b[0m\u001b[0;34m=\u001b[0m\u001b[0;36m1\u001b[0m\u001b[0;34m)\u001b[0m\u001b[0;34m\u001b[0m\u001b[0;34m\u001b[0m\u001b[0m\n\u001b[0;32m----> 4\u001b[0;31m \u001b[0my_pred\u001b[0m \u001b[0;34m=\u001b[0m \u001b[0mhist\u001b[0m\u001b[0;34m.\u001b[0m\u001b[0mpredict_classes\u001b[0m\u001b[0;34m(\u001b[0m\u001b[0mX_test\u001b[0m\u001b[0;34m)\u001b[0m\u001b[0;34m\u001b[0m\u001b[0;34m\u001b[0m\u001b[0m\n\u001b[0m\u001b[1;32m      5\u001b[0m \u001b[0mresult\u001b[0m \u001b[0;34m=\u001b[0m \u001b[0mclassification_report\u001b[0m\u001b[0;34m(\u001b[0m\u001b[0mY_test\u001b[0m\u001b[0;34m,\u001b[0m \u001b[0my_pred\u001b[0m\u001b[0;34m)\u001b[0m\u001b[0;34m\u001b[0m\u001b[0;34m\u001b[0m\u001b[0m\n\u001b[1;32m      6\u001b[0m \u001b[0mprint\u001b[0m\u001b[0;34m(\u001b[0m\u001b[0mresult\u001b[0m\u001b[0;34m)\u001b[0m\u001b[0;34m\u001b[0m\u001b[0;34m\u001b[0m\u001b[0m\n",
            "\u001b[0;31mAttributeError\u001b[0m: 'History' object has no attribute 'predict_classes'"
          ]
        }
      ]
    },
    {
      "cell_type": "code",
      "source": [
        "accuracy = 0\n",
        "_, accuracy = model_vit.evaluate(X_test, Y_test)\n",
        " \n",
        "print('Test Accuracy :', accuracy)\n"
      ],
      "metadata": {
        "colab": {
          "base_uri": "https://localhost:8080/"
        },
        "id": "l19_gSnCb_kQ",
        "outputId": "80c9c06c-f645-41ee-b217-c9b0b42ca85b"
      },
      "execution_count": null,
      "outputs": [
        {
          "output_type": "stream",
          "name": "stdout",
          "text": [
            "1487/1487 [==============================] - 24s 16ms/step - loss: 0.5919 - accuracy: 0.8538\n",
            "Test Accuracy : 0.8538066744804382\n"
          ]
        }
      ]
    },
    {
      "cell_type": "code",
      "source": [
        "import matplotlib.pyplot as plt\n",
        "loss = hist.history['loss']\n",
        "acc = hist.history['accuracy']\n",
        "val_loss = hist.history['val_loss']\n",
        "val_acc = hist.history['val_accuracy']\n",
        "epochs = range(1, len(loss)+1)\n",
        "plt.figure(figsize=(10,7))\n",
        "plt.subplots_adjust(wspace=0.5)\n",
        "plt.subplot(1,2,1)\n",
        "plt.plot(epochs, loss, 'bo-', label='Training loss')\n",
        "plt.plot(epochs, val_loss, 'rx-', label='Validation loss')\n",
        "plt.title('Loss')\n",
        "plt.xlabel('Epochs')\n",
        "plt.ylabel('loss')\n",
        "plt.grid()\n",
        "plt.legend()\n",
        "plt.subplot(1,2,2)\n",
        "plt.plot(epochs, acc, 'bo-', label='Training accuracy')\n",
        "plt.plot(epochs, val_acc, 'rx-', label='Validation accuracy')\n",
        "plt.title('Accuracy')\n",
        "plt.xlabel('Epochs')\n",
        "plt.ylabel('accuracy')\n",
        "plt.grid()\n",
        "plt.legend()"
      ],
      "metadata": {
        "colab": {
          "base_uri": "https://localhost:8080/",
          "height": 476
        },
        "id": "MbCS8KqL1X0z",
        "outputId": "d38e38d3-bbdb-4d47-ec54-bbd153eea19e"
      },
      "execution_count": null,
      "outputs": [
        {
          "output_type": "execute_result",
          "data": {
            "text/plain": [
              "<matplotlib.legend.Legend at 0x7f5db122ae90>"
            ]
          },
          "metadata": {},
          "execution_count": 25
        },
        {
          "output_type": "display_data",
          "data": {
            "image/png": "[encoded data removed]",
            "text/plain": [
              "<Figure size 720x504 with 2 Axes>"
            ]
          },
          "metadata": {
            "needs_background": "light"
          }
        }
      ]
    },
    {
      "cell_type": "code",
      "source": [
        ""
      ],
      "metadata": {
        "id": "jjRugBJGxsFo"
      },
      "execution_count": null,
      "outputs": []
    }
  ]
}